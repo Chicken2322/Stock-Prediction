{
  "nbformat": 4,
  "nbformat_minor": 0,
  "metadata": {
    "colab": {
      "name": "stock prediction",
      "provenance": [],
      "include_colab_link": true
    },
    "kernelspec": {
      "name": "python3",
      "display_name": "Python 3"
    }
  },
  "cells": [
    {
      "cell_type": "markdown",
      "metadata": {
        "id": "view-in-github",
        "colab_type": "text"
      },
      "source": [
        "<a href=\"https://colab.research.google.com/github/Chicken2322/Stock-Prediction/blob/master/stock_prediction.ipynb\" target=\"_parent\"><img src=\"https://colab.research.google.com/assets/colab-badge.svg\" alt=\"Open In Colab\"/></a>"
      ]
    },
    {
      "cell_type": "code",
      "metadata": {
        "id": "Cv2IEAvTXQzV",
        "colab_type": "code",
        "colab": {
          "base_uri": "https://localhost:8080/",
          "height": 34
        },
        "outputId": "fdbf3948-ed0f-4796-ceae-74df24ed9cdc"
      },
      "source": [
        "from google.colab import drive\n",
        "drive.mount('/content/drive')"
      ],
      "execution_count": 15,
      "outputs": [
        {
          "output_type": "stream",
          "text": [
            "Drive already mounted at /content/drive; to attempt to forcibly remount, call drive.mount(\"/content/drive\", force_remount=True).\n"
          ],
          "name": "stdout"
        }
      ]
    },
    {
      "cell_type": "code",
      "metadata": {
        "id": "LtFbNExNfYD6",
        "colab_type": "code",
        "colab": {}
      },
      "source": [
        "import pandas as pd\n",
        "import numpy as np\n",
        "import matplotlib.pyplot as plt\n",
        "%matplotlib inline\n"
      ],
      "execution_count": 16,
      "outputs": []
    },
    {
      "cell_type": "code",
      "metadata": {
        "id": "46AYDrI_PCXN",
        "colab_type": "code",
        "colab": {
          "base_uri": "https://localhost:8080/",
          "height": 241
        },
        "outputId": "2ea8fc2a-f4bc-4a03-9528-4b2bf9708529"
      },
      "source": [
        "pip install pyramid-arima"
      ],
      "execution_count": 17,
      "outputs": [
        {
          "output_type": "stream",
          "text": [
            "Requirement already satisfied: pyramid-arima in /usr/local/lib/python3.6/dist-packages (0.9.0)\n",
            "Requirement already satisfied: numpy>=1.10 in /usr/local/lib/python3.6/dist-packages (from pyramid-arima) (1.18.5)\n",
            "Requirement already satisfied: statsmodels>=0.9.0 in /usr/local/lib/python3.6/dist-packages (from pyramid-arima) (0.10.2)\n",
            "Requirement already satisfied: scikit-learn>=0.17 in /usr/local/lib/python3.6/dist-packages (from pyramid-arima) (0.22.2.post1)\n",
            "Requirement already satisfied: Cython>=0.23 in /usr/local/lib/python3.6/dist-packages (from pyramid-arima) (0.29.21)\n",
            "Requirement already satisfied: pandas>=0.19 in /usr/local/lib/python3.6/dist-packages (from pyramid-arima) (1.0.5)\n",
            "Requirement already satisfied: scipy>=0.9 in /usr/local/lib/python3.6/dist-packages (from pyramid-arima) (1.4.1)\n",
            "Requirement already satisfied: patsy>=0.4.0 in /usr/local/lib/python3.6/dist-packages (from statsmodels>=0.9.0->pyramid-arima) (0.5.1)\n",
            "Requirement already satisfied: joblib>=0.11 in /usr/local/lib/python3.6/dist-packages (from scikit-learn>=0.17->pyramid-arima) (0.16.0)\n",
            "Requirement already satisfied: python-dateutil>=2.6.1 in /usr/local/lib/python3.6/dist-packages (from pandas>=0.19->pyramid-arima) (2.8.1)\n",
            "Requirement already satisfied: pytz>=2017.2 in /usr/local/lib/python3.6/dist-packages (from pandas>=0.19->pyramid-arima) (2018.9)\n",
            "Requirement already satisfied: six in /usr/local/lib/python3.6/dist-packages (from patsy>=0.4.0->statsmodels>=0.9.0->pyramid-arima) (1.15.0)\n"
          ],
          "name": "stdout"
        }
      ]
    },
    {
      "cell_type": "code",
      "metadata": {
        "id": "XWRv5sWci-v2",
        "colab_type": "code",
        "colab": {}
      },
      "source": [
        "from sklearn.preprocessing import MinMaxScaler\n",
        "from pyramid.arima import auto_arima\n",
        "from sklearn.preprocessing import MinMaxScaler\n",
        "from keras.models import Sequential\n",
        "from keras.layers import Dense, Dropout, LSTM\n",
        "from fastai.structured import  add_datepart\n",
        "import warnings\n",
        "warnings.filterwarnings('ignore')"
      ],
      "execution_count": 18,
      "outputs": []
    },
    {
      "cell_type": "code",
      "metadata": {
        "id": "DBCcHnU3mjXq",
        "colab_type": "code",
        "colab": {}
      },
      "source": [
        "#setting scaler in the the range between 0 to 1\n",
        "scaler = MinMaxScaler(feature_range=(0,1))"
      ],
      "execution_count": 19,
      "outputs": []
    },
    {
      "cell_type": "code",
      "metadata": {
        "id": "gVkt7WjtkEy4",
        "colab_type": "code",
        "colab": {}
      },
      "source": [
        "df = pd.read_csv(\"/content/drive/My Drive/reliance_data.csv\")\n",
        "df=df.dropna()"
      ],
      "execution_count": 20,
      "outputs": []
    },
    {
      "cell_type": "code",
      "metadata": {
        "id": "IbkIpYXj5Ae2",
        "colab_type": "code",
        "colab": {
          "base_uri": "https://localhost:8080/",
          "height": 34
        },
        "outputId": "555c13d1-6e92-4011-f5a2-d014ab1022ef"
      },
      "source": [
        "df.columns"
      ],
      "execution_count": 21,
      "outputs": [
        {
          "output_type": "execute_result",
          "data": {
            "text/plain": [
              "Index(['Date', 'Open', 'High', 'Low', 'Close', 'Adj Close', 'Volume'], dtype='object')"
            ]
          },
          "metadata": {
            "tags": []
          },
          "execution_count": 21
        }
      ]
    },
    {
      "cell_type": "code",
      "metadata": {
        "id": "t7hD1kCt5ANS",
        "colab_type": "code",
        "colab": {
          "base_uri": "https://localhost:8080/",
          "height": 255
        },
        "outputId": "58fa6063-fe15-4efc-9f7d-3567255dce3f"
      },
      "source": [
        "df.info()"
      ],
      "execution_count": 22,
      "outputs": [
        {
          "output_type": "stream",
          "text": [
            "<class 'pandas.core.frame.DataFrame'>\n",
            "Int64Index: 6034 entries, 0 to 6159\n",
            "Data columns (total 7 columns):\n",
            " #   Column     Non-Null Count  Dtype  \n",
            "---  ------     --------------  -----  \n",
            " 0   Date       6034 non-null   object \n",
            " 1   Open       6034 non-null   float64\n",
            " 2   High       6034 non-null   float64\n",
            " 3   Low        6034 non-null   float64\n",
            " 4   Close      6034 non-null   float64\n",
            " 5   Adj Close  6034 non-null   float64\n",
            " 6   Volume     6034 non-null   float64\n",
            "dtypes: float64(6), object(1)\n",
            "memory usage: 377.1+ KB\n"
          ],
          "name": "stdout"
        }
      ]
    },
    {
      "cell_type": "code",
      "metadata": {
        "id": "YTpKKT5_kLZ-",
        "colab_type": "code",
        "colab": {
          "base_uri": "https://localhost:8080/",
          "height": 204
        },
        "outputId": "9c5296dd-715c-4951-940c-10d6b6d217c2"
      },
      "source": [
        "df.head()\n",
        "df.tail()\n",
        "\n",
        "\n"
      ],
      "execution_count": 23,
      "outputs": [
        {
          "output_type": "execute_result",
          "data": {
            "text/html": [
              "<div>\n",
              "<style scoped>\n",
              "    .dataframe tbody tr th:only-of-type {\n",
              "        vertical-align: middle;\n",
              "    }\n",
              "\n",
              "    .dataframe tbody tr th {\n",
              "        vertical-align: top;\n",
              "    }\n",
              "\n",
              "    .dataframe thead th {\n",
              "        text-align: right;\n",
              "    }\n",
              "</style>\n",
              "<table border=\"1\" class=\"dataframe\">\n",
              "  <thead>\n",
              "    <tr style=\"text-align: right;\">\n",
              "      <th></th>\n",
              "      <th>Date</th>\n",
              "      <th>Open</th>\n",
              "      <th>High</th>\n",
              "      <th>Low</th>\n",
              "      <th>Close</th>\n",
              "      <th>Adj Close</th>\n",
              "      <th>Volume</th>\n",
              "    </tr>\n",
              "  </thead>\n",
              "  <tbody>\n",
              "    <tr>\n",
              "      <th>6155</th>\n",
              "      <td>2020-06-03</td>\n",
              "      <td>1545.000000</td>\n",
              "      <td>1560.000000</td>\n",
              "      <td>1533.349976</td>\n",
              "      <td>1541.650024</td>\n",
              "      <td>1541.650024</td>\n",
              "      <td>11713461.0</td>\n",
              "    </tr>\n",
              "    <tr>\n",
              "      <th>6156</th>\n",
              "      <td>2020-06-04</td>\n",
              "      <td>1544.000000</td>\n",
              "      <td>1589.500000</td>\n",
              "      <td>1541.000000</td>\n",
              "      <td>1579.800049</td>\n",
              "      <td>1579.800049</td>\n",
              "      <td>15784379.0</td>\n",
              "    </tr>\n",
              "    <tr>\n",
              "      <th>6157</th>\n",
              "      <td>2020-06-05</td>\n",
              "      <td>1595.000000</td>\n",
              "      <td>1618.000000</td>\n",
              "      <td>1573.699951</td>\n",
              "      <td>1581.699951</td>\n",
              "      <td>1581.699951</td>\n",
              "      <td>15264885.0</td>\n",
              "    </tr>\n",
              "    <tr>\n",
              "      <th>6158</th>\n",
              "      <td>2020-06-08</td>\n",
              "      <td>1618.400024</td>\n",
              "      <td>1618.400024</td>\n",
              "      <td>1565.000000</td>\n",
              "      <td>1569.500000</td>\n",
              "      <td>1569.500000</td>\n",
              "      <td>14497996.0</td>\n",
              "    </tr>\n",
              "    <tr>\n",
              "      <th>6159</th>\n",
              "      <td>2020-06-09</td>\n",
              "      <td>1560.300049</td>\n",
              "      <td>1583.000000</td>\n",
              "      <td>1533.000000</td>\n",
              "      <td>1537.150024</td>\n",
              "      <td>1537.150024</td>\n",
              "      <td>11933076.0</td>\n",
              "    </tr>\n",
              "  </tbody>\n",
              "</table>\n",
              "</div>"
            ],
            "text/plain": [
              "            Date         Open  ...    Adj Close      Volume\n",
              "6155  2020-06-03  1545.000000  ...  1541.650024  11713461.0\n",
              "6156  2020-06-04  1544.000000  ...  1579.800049  15784379.0\n",
              "6157  2020-06-05  1595.000000  ...  1581.699951  15264885.0\n",
              "6158  2020-06-08  1618.400024  ...  1569.500000  14497996.0\n",
              "6159  2020-06-09  1560.300049  ...  1537.150024  11933076.0\n",
              "\n",
              "[5 rows x 7 columns]"
            ]
          },
          "metadata": {
            "tags": []
          },
          "execution_count": 23
        }
      ]
    },
    {
      "cell_type": "code",
      "metadata": {
        "id": "GQKeus6BkZkL",
        "colab_type": "code",
        "colab": {}
      },
      "source": [
        "#We are converting date into date_time objects and setting it as index\n",
        "df['Date'] = pd.to_datetime(df.Date,format='%Y-%m-%d')\n",
        "df.index = df['Date']\n",
        "df = df.sort_index(ascending=True, axis=0)"
      ],
      "execution_count": 24,
      "outputs": []
    },
    {
      "cell_type": "code",
      "metadata": {
        "id": "d3Azna0MnkDP",
        "colab_type": "code",
        "colab": {
          "base_uri": "https://localhost:8080/",
          "height": 500
        },
        "outputId": "7bd5e8d4-7e8f-4d86-8468-80edbee36a49"
      },
      "source": [
        "#plotting the closing price of the company \n",
        "plt.figure(figsize=(16,8))\n",
        "plt.plot(df['Close'], label='Close Price history')"
      ],
      "execution_count": 25,
      "outputs": [
        {
          "output_type": "execute_result",
          "data": {
            "text/plain": [
              "[<matplotlib.lines.Line2D at 0x7f790ceb1470>]"
            ]
          },
          "metadata": {
            "tags": []
          },
          "execution_count": 25
        },
        {
          "output_type": "display_data",
          "data": {
            "image/png": "[encoded data removed]",
            "text/plain": [
              "<Figure size 1152x576 with 1 Axes>"
            ]
          },
          "metadata": {
            "tags": [],
            "needs_background": "light"
          }
        }
      ]
    },
    {
      "cell_type": "code",
      "metadata": {
        "id": "jfapy9xSoW9C",
        "colab_type": "code",
        "colab": {
          "base_uri": "https://localhost:8080/",
          "height": 187
        },
        "outputId": "14a14f9d-4335-4269-8a79-0d12ed4ba3f5"
      },
      "source": [
        "#Now we are analysing our data by Moving Average Method and creating dataframe with date  \n",
        "#and the target variable( In this case , CLOSING PRICE)\n",
        "data = pd.DataFrame(data={'Date':df.Date,'Close': df.Close})\n",
        "data.info()\n",
        "data.size"
      ],
      "execution_count": 26,
      "outputs": [
        {
          "output_type": "stream",
          "text": [
            "<class 'pandas.core.frame.DataFrame'>\n",
            "DatetimeIndex: 6034 entries, 1996-01-01 to 2020-06-09\n",
            "Data columns (total 2 columns):\n",
            " #   Column  Non-Null Count  Dtype         \n",
            "---  ------  --------------  -----         \n",
            " 0   Date    6034 non-null   datetime64[ns]\n",
            " 1   Close   6034 non-null   float64       \n",
            "dtypes: datetime64[ns](1), float64(1)\n",
            "memory usage: 141.4 KB\n"
          ],
          "name": "stdout"
        },
        {
          "output_type": "execute_result",
          "data": {
            "text/plain": [
              "12068"
            ]
          },
          "metadata": {
            "tags": []
          },
          "execution_count": 26
        }
      ]
    },
    {
      "cell_type": "code",
      "metadata": {
        "id": "ty71JW-PqKMQ",
        "colab_type": "code",
        "colab": {}
      },
      "source": [
        "#While splitting the data into train and validation set\n",
        "#we cannot use random splitting since that will destroy the time component\n",
        "#So here we slice the data \n",
        "length = int(data.size / data.columns.size * 0.92)\n",
        "train = data[:length]\n",
        "valid = data[length:]\n"
      ],
      "execution_count": 27,
      "outputs": []
    },
    {
      "cell_type": "code",
      "metadata": {
        "id": "4CwHWNf5smm8",
        "colab_type": "code",
        "colab": {
          "base_uri": "https://localhost:8080/",
          "height": 102
        },
        "outputId": "1458870a-0428-4e8a-9324-ba8fc010b737"
      },
      "source": [
        "print('Shape of training set:')\n",
        "print(train.shape)\n",
        "\n",
        "print('\\n Shape of validation set:')\n",
        "print(valid.shape)"
      ],
      "execution_count": 28,
      "outputs": [
        {
          "output_type": "stream",
          "text": [
            "Shape of training set:\n",
            "(5551, 2)\n",
            "\n",
            " Shape of validation set:\n",
            "(483, 2)\n"
          ],
          "name": "stdout"
        }
      ]
    },
    {
      "cell_type": "code",
      "metadata": {
        "id": "DVK1lG3U6fc9",
        "colab_type": "code",
        "colab": {
          "base_uri": "https://localhost:8080/",
          "height": 530
        },
        "outputId": "32f53781-c78c-45e0-d878-dc1c3f8c35fc"
      },
      "source": [
        "#Using rolling mean from Moving Average library \n",
        "plt.clf()\n",
        "plt.figure(figsize=(16,8))\n",
        "data_mean = data.rolling(window=52).mean()\n",
        "plt.plot(data_mean ,label=\"rolling mean of 52 weeks\" )\n",
        "plt.xlabel(\"Date\")\n",
        "plt.ylabel(\"closing prices\")\n",
        "plt.title(\"2 year rolling mean of my time series\")\n",
        "plt.legend(loc=\"upper left\")\n",
        "plt.show()"
      ],
      "execution_count": 29,
      "outputs": [
        {
          "output_type": "display_data",
          "data": {
            "text/plain": [
              "<Figure size 432x288 with 0 Axes>"
            ]
          },
          "metadata": {
            "tags": []
          }
        },
        {
          "output_type": "display_data",
          "data": {
            "image/png": "[encoded data removed]",
            "text/plain": [
              "<Figure size 1152x576 with 1 Axes>"
            ]
          },
          "metadata": {
            "tags": [],
            "needs_background": "light"
          }
        }
      ]
    },
    {
      "cell_type": "code",
      "metadata": {
        "id": "97lN4ujAu2cJ",
        "colab_type": "code",
        "colab": {}
      },
      "source": [
        "preds=[]\n",
        "valid_size= valid.Close.size\n",
        "train_size= train.Close.size\n",
        "for i in range(0 , valid_size):\n",
        "    a = train['Close'][train_size - 365 + i:].sum() + sum(preds)\n",
        "    b = a/365\n",
        "    preds.append(b)"
      ],
      "execution_count": 30,
      "outputs": []
    },
    {
      "cell_type": "code",
      "metadata": {
        "id": "_qmSCFOU1xUE",
        "colab_type": "code",
        "colab": {
          "base_uri": "https://localhost:8080/",
          "height": 68
        },
        "outputId": "0fca5fc6-4ab3-4af9-ba58-09b8b317198e"
      },
      "source": [
        "rms=np.sqrt(np.mean(np.power((np.array(valid['Close'])-preds),2)))\n",
        "print('\\n RMSE value on validation set:')\n",
        "print(rms)"
      ],
      "execution_count": 31,
      "outputs": [
        {
          "output_type": "stream",
          "text": [
            "\n",
            " RMSE value on validation set:\n",
            "406.99209506820705\n"
          ],
          "name": "stdout"
        }
      ]
    },
    {
      "cell_type": "code",
      "metadata": {
        "id": "JpmMIFtX4thm",
        "colab_type": "code",
        "colab": {
          "base_uri": "https://localhost:8080/",
          "height": 530
        },
        "outputId": "60ceb76d-15b7-4ea1-9c06-b49bae491965"
      },
      "source": [
        "#plotting prediction we did using Moving Average (Manually)\n",
        "plt.clf()\n",
        "plt.figure(figsize=(16,8))\n",
        "valid['Predictions'] = 0\n",
        "valid['Predictions'] = preds\n",
        "plt.plot(train['Close'], label=\"Training Data\")\n",
        "plt.plot(valid[['Close']] , label='Actual Value')\n",
        "plt.plot(valid[[ 'Predictions']] , label='Predicted Value')\n",
        "\n",
        "plt.xlabel(\"Year\")\n",
        "plt.ylabel(\"closing prices\")\n",
        "plt.title(\"52 weeks rolling mean of my time series\")\n",
        "plt.legend(loc=\"upper left\")\n",
        "plt.show()"
      ],
      "execution_count": 32,
      "outputs": [
        {
          "output_type": "display_data",
          "data": {
            "text/plain": [
              "<Figure size 432x288 with 0 Axes>"
            ]
          },
          "metadata": {
            "tags": []
          }
        },
        {
          "output_type": "display_data",
          "data": {
            "image/png": "[encoded data removed]",
            "text/plain": [
              "<Figure size 1152x576 with 1 Axes>"
            ]
          },
          "metadata": {
            "tags": [],
            "needs_background": "light"
          }
        }
      ]
    },
    {
      "cell_type": "code",
      "metadata": {
        "id": "a5T3wMbV35xM",
        "colab_type": "code",
        "colab": {}
      },
      "source": [
        "#Now we implement Linear regression model \n",
        "#creating a separate dataset\n",
        "new_data = pd.DataFrame(index=range(0,len(df)),columns=['Date', 'Close'])\n",
        "\n",
        "for i in range(0,len(data)):\n",
        "    new_data['Date'][i] = data['Date'][i]\n",
        "    new_data['Close'][i] = data['Close'][i]"
      ],
      "execution_count": null,
      "outputs": []
    },
    {
      "cell_type": "code",
      "metadata": {
        "id": "J9665IwL4ZWW",
        "colab_type": "code",
        "colab": {}
      },
      "source": [
        "add_datepart(new_data, 'Date')\n",
        "new_data.drop('Elapsed', axis=1, inplace=True)"
      ],
      "execution_count": null,
      "outputs": []
    },
    {
      "cell_type": "code",
      "metadata": {
        "id": "wuMyUe5Q5T5X",
        "colab_type": "code",
        "colab": {}
      },
      "source": [
        "#split into train and validation\n",
        "length = int(new_data.size / new_data.columns.size * 0.96)\n",
        "train = new_data[:987]\n",
        "valid = new_data[987:]\n"
      ],
      "execution_count": null,
      "outputs": []
    },
    {
      "cell_type": "code",
      "metadata": {
        "id": "4zbVztmM5hot",
        "colab_type": "code",
        "colab": {}
      },
      "source": [
        "x_train = train.drop('Close', axis=1)\n",
        "y_train = train['Close']\n",
        "x_valid = valid.drop('Close', axis=1)\n",
        "y_valid = valid['Close']"
      ],
      "execution_count": null,
      "outputs": []
    },
    {
      "cell_type": "code",
      "metadata": {
        "id": "0yUEd5e_5xbM",
        "colab_type": "code",
        "colab": {}
      },
      "source": [
        "#implement linear regression\n",
        "from sklearn.linear_model import LinearRegression\n",
        "model = LinearRegression()\n",
        "model.fit(x_train,y_train)"
      ],
      "execution_count": null,
      "outputs": []
    },
    {
      "cell_type": "code",
      "metadata": {
        "id": "l6CwHk4r53kq",
        "colab_type": "code",
        "colab": {}
      },
      "source": [
        "#make predictions and find the rmse\n",
        "preds = model.predict(x_valid)\n",
        "rms=np.sqrt(np.mean(np.power((np.array(y_valid)-np.array(preds)),2)))\n",
        "rms"
      ],
      "execution_count": null,
      "outputs": []
    },
    {
      "cell_type": "code",
      "metadata": {
        "id": "YBM-DUvK6cQ7",
        "colab_type": "code",
        "colab": {}
      },
      "source": [
        "plt.clf()\n",
        "plt.figure(figsize=(16,8))\n",
        "valid['Predictions'] = 0\n",
        "valid['Predictions'] = preds\n",
        "\n",
        "valid.index = new_data[length:].index\n",
        "train.index = new_data[:length].index\n",
        "\n",
        "plt.plot(train['Close'])\n",
        "plt.plot(valid[['Close', 'Predictions']])\n",
        "plt.xlabel(\"Year\")\n",
        "plt.ylabel(\"The values of Closing price\")\n",
        "plt.title(\"1 year stock prediction\")\n",
        "plt.legend(loc=\"upper left\")\n",
        "plt.show()"
      ],
      "execution_count": null,
      "outputs": []
    },
    {
      "cell_type": "code",
      "metadata": {
        "id": "uajed3CN9wzw",
        "colab_type": "code",
        "colab": {
          "base_uri": "https://localhost:8080/",
          "height": 374
        },
        "outputId": "716e7a65-2603-4b2b-b0e6-0d6872158288"
      },
      "source": [
        "# Now we implement ARIMA models (Auto Regressive Integrated Moving Average)\n",
        "data = df.sort_index(ascending=True, axis=0)\n",
        "length = int(data.size / data.columns.size * 0.96)\n",
        "\n",
        "train = data[:length]\n",
        "valid = data[length:]\n",
        "\n",
        "training = train['Close']\n",
        "validation = valid['Close']\n",
        "\n",
        "model = auto_arima(training, start_p=1, start_q=1,max_p=3, max_q=3, m=12,start_P=0, seasonal=True,d=1, D=1, trace=True,error_action='ignore',suppress_warnings=True)\n",
        "model.fit(training)\n",
        "\n",
        "forecast_data = model.predict(n_periods=validation.size)\n",
        "forecast_data = pd.DataFrame(forecast_data,index = valid.index,columns=['Prediction'])\n"
      ],
      "execution_count": null,
      "outputs": [
        {
          "output_type": "stream",
          "text": [
            "Fit ARIMA: order=(1, 1, 1) seasonal_order=(0, 1, 1, 12); AIC=43082.524, BIC=43115.834, Fit time=73.044 seconds\n",
            "Fit ARIMA: order=(0, 1, 0) seasonal_order=(0, 1, 0, 12); AIC=46698.694, BIC=46712.018, Fit time=0.513 seconds\n",
            "Fit ARIMA: order=(1, 1, 0) seasonal_order=(1, 1, 0, 12); AIC=45118.980, BIC=45145.628, Fit time=11.391 seconds\n",
            "Fit ARIMA: order=(0, 1, 1) seasonal_order=(0, 1, 1, 12); AIC=43097.603, BIC=43124.250, Fit time=54.530 seconds\n",
            "Fit ARIMA: order=(1, 1, 1) seasonal_order=(1, 1, 1, 12); AIC=43060.803, BIC=43100.775, Fit time=51.823 seconds\n",
            "Fit ARIMA: order=(1, 1, 1) seasonal_order=(1, 1, 0, 12); AIC=44956.456, BIC=44989.766, Fit time=59.798 seconds\n",
            "Fit ARIMA: order=(1, 1, 1) seasonal_order=(1, 1, 2, 12); AIC=43080.420, BIC=43127.054, Fit time=127.839 seconds\n",
            "Fit ARIMA: order=(1, 1, 1) seasonal_order=(0, 1, 0, 12); AIC=46369.136, BIC=46395.784, Fit time=25.446 seconds\n",
            "Fit ARIMA: order=(1, 1, 1) seasonal_order=(2, 1, 2, 12); AIC=43061.588, BIC=43114.884, Fit time=177.626 seconds\n",
            "Fit ARIMA: order=(0, 1, 1) seasonal_order=(1, 1, 1, 12); AIC=43078.356, BIC=43111.666, Fit time=56.468 seconds\n",
            "Fit ARIMA: order=(2, 1, 1) seasonal_order=(1, 1, 1, 12); AIC=43057.852, BIC=43104.486, Fit time=84.029 seconds\n",
            "Fit ARIMA: order=(2, 1, 0) seasonal_order=(1, 1, 1, 12); AIC=43080.371, BIC=43120.343, Fit time=67.068 seconds\n",
            "Fit ARIMA: order=(2, 1, 2) seasonal_order=(1, 1, 1, 12); AIC=43156.418, BIC=43209.714, Fit time=99.385 seconds\n",
            "Fit ARIMA: order=(1, 1, 0) seasonal_order=(1, 1, 1, 12); AIC=43078.982, BIC=43112.292, Fit time=54.983 seconds\n",
            "Fit ARIMA: order=(3, 1, 2) seasonal_order=(1, 1, 1, 12); AIC=43089.057, BIC=43149.014, Fit time=110.317 seconds\n",
            "Fit ARIMA: order=(2, 1, 1) seasonal_order=(0, 1, 1, 12); AIC=43079.112, BIC=43119.084, Fit time=63.330 seconds\n",
            "Fit ARIMA: order=(2, 1, 1) seasonal_order=(2, 1, 1, 12); AIC=43057.276, BIC=43110.572, Fit time=184.778 seconds\n",
            "Fit ARIMA: order=(2, 1, 1) seasonal_order=(2, 1, 0, 12); AIC=44470.725, BIC=44517.359, Fit time=174.658 seconds\n",
            "Fit ARIMA: order=(2, 1, 1) seasonal_order=(2, 1, 2, 12); AIC=43063.601, BIC=43123.559, Fit time=228.764 seconds\n",
            "Fit ARIMA: order=(2, 1, 1) seasonal_order=(1, 1, 0, 12); AIC=44944.476, BIC=44984.448, Fit time=82.777 seconds\n",
            "Fit ARIMA: order=(1, 1, 1) seasonal_order=(2, 1, 1, 12); AIC=43065.614, BIC=43112.248, Fit time=191.359 seconds\n"
          ],
          "name": "stdout"
        }
      ]
    },
    {
      "cell_type": "code",
      "metadata": {
        "id": "0kInkcHh9VYX",
        "colab_type": "code",
        "colab": {}
      },
      "source": [
        "rms=np.sqrt(np.mean(np.power((np.array(valid['Close'])-np.array(forecast_data['Prediction'])),2)))\n",
        "print(\"RMS value from ARIMA Model {}\".format(rms))"
      ],
      "execution_count": null,
      "outputs": []
    },
    {
      "cell_type": "code",
      "metadata": {
        "id": "48devAPyHODe",
        "colab_type": "code",
        "colab": {}
      },
      "source": [
        "#plotting prediction we did using ARIMA models\n",
        "plt.clf()\n",
        "plt.figure(figsize=(16,8))\n",
        "plt.plot(train['Close'],label=\"training data\")\n",
        "plt.plot(valid['Close'],label=\"Validation data\")\n",
        "plt.plot(forecast_data['Prediction'],label=\"Predicted data\")\n",
        "plt.xlabel(\"Year\")\n",
        "plt.ylabel(\"The values of Closing price\")\n",
        "plt.title(\"1 year stock prediction\")\n",
        "plt.legend(loc=\"upper left\")\n",
        "plt.show()"
      ],
      "execution_count": null,
      "outputs": []
    },
    {
      "cell_type": "code",
      "metadata": {
        "id": "F7nSmILWICyN",
        "colab_type": "code",
        "colab": {}
      },
      "source": [
        "#Now we implement LSTM models (Auto Regressive Integrated Moving Average)\n",
        "data = df.sort_index(ascending=True, axis=0)\n",
        "new_data = pd.DataFrame(index=range(0,len(df)),columns=['Date', 'Close'])\n",
        "for i in range(0,len(data)):\n",
        "    new_data['Date'][i] = data['Date'][i]\n",
        "    new_data['Close'][i] = data['Close'][i]"
      ],
      "execution_count": null,
      "outputs": []
    },
    {
      "cell_type": "code",
      "metadata": {
        "id": "SgnpZnfaKmDW",
        "colab_type": "code",
        "colab": {}
      },
      "source": [
        "new_data.index = new_data.Date\n",
        "new_data.drop('Date', axis=1, inplace=True)"
      ],
      "execution_count": null,
      "outputs": []
    },
    {
      "cell_type": "code",
      "metadata": {
        "id": "jNS4htDdKssd",
        "colab_type": "code",
        "colab": {}
      },
      "source": [
        "dataset = new_data.values\n",
        "length = int(dataset.size * 0.96)\n",
        "train = dataset[0:length,:]\n",
        "valid = dataset[length:,:]\n"
      ],
      "execution_count": null,
      "outputs": []
    },
    {
      "cell_type": "code",
      "metadata": {
        "id": "pwo5G4yjK6_4",
        "colab_type": "code",
        "colab": {}
      },
      "source": [
        "scaler = MinMaxScaler(feature_range=(0, 1))\n",
        "scaled_data = scaler.fit_transform(dataset)"
      ],
      "execution_count": null,
      "outputs": []
    },
    {
      "cell_type": "code",
      "metadata": {
        "id": "SRcxKFy9LVdL",
        "colab_type": "code",
        "colab": {}
      },
      "source": [
        "x_train, y_train = [], []\n",
        "for i in range(60,len(train)):\n",
        "    x_train.append(scaled_data[i-60:i,0])\n",
        "    y_train.append(scaled_data[i,0])\n",
        "x_train, y_train = np.array(x_train), np.array(y_train)\n",
        "\n",
        "x_train = np.reshape(x_train, (x_train.shape[0],x_train.shape[1],1))"
      ],
      "execution_count": null,
      "outputs": []
    },
    {
      "cell_type": "code",
      "metadata": {
        "id": "wyJSWwsfLiX8",
        "colab_type": "code",
        "colab": {}
      },
      "source": [
        "# create and fit the LSTM network\n",
        "model = Sequential()\n",
        "model.add(LSTM(units=50, return_sequences=True, input_shape=(x_train.shape[1],1)))\n",
        "model.add(LSTM(units=50))\n",
        "model.add(Dense(1))"
      ],
      "execution_count": null,
      "outputs": []
    },
    {
      "cell_type": "code",
      "metadata": {
        "id": "tWkzA8IcLmak",
        "colab_type": "code",
        "colab": {}
      },
      "source": [
        "model.compile(loss='mean_squared_error', optimizer='adam')\n",
        "model.fit(x_train, y_train, epochs=1, batch_size=1, verbose=2)"
      ],
      "execution_count": null,
      "outputs": []
    },
    {
      "cell_type": "code",
      "metadata": {
        "id": "IC6uYXi6LqpM",
        "colab_type": "code",
        "colab": {}
      },
      "source": [
        "inputs = new_data[len(new_data) - len(valid) - 60:].values\n",
        "inputs = inputs.reshape(-1,1)\n",
        "inputs  = scaler.transform(inputs)"
      ],
      "execution_count": null,
      "outputs": []
    },
    {
      "cell_type": "code",
      "metadata": {
        "id": "cziggLheMqCP",
        "colab_type": "code",
        "colab": {}
      },
      "source": [
        "X_test = []\n",
        "for i in range(60,inputs.shape[0]):\n",
        "    X_test.append(inputs[i-60:i,0])\n",
        "X_test = np.array(X_test)"
      ],
      "execution_count": null,
      "outputs": []
    },
    {
      "cell_type": "code",
      "metadata": {
        "id": "LRb0ebujM3et",
        "colab_type": "code",
        "colab": {}
      },
      "source": [
        "X_test = np.reshape(X_test, (X_test.shape[0],X_test.shape[1],1))\n",
        "closing_price = model.predict(X_test)\n",
        "closing_price = scaler.inverse_transform(closing_price)"
      ],
      "execution_count": null,
      "outputs": []
    },
    {
      "cell_type": "code",
      "metadata": {
        "id": "T5NDS02CNBDY",
        "colab_type": "code",
        "colab": {}
      },
      "source": [
        "rms=np.sqrt(np.mean(np.power((valid-closing_price),2)))\n",
        "print(.format(rms))"
      ],
      "execution_count": null,
      "outputs": []
    },
    {
      "cell_type": "code",
      "metadata": {
        "id": "HfgRDGw3NHsn",
        "colab_type": "code",
        "colab": {}
      },
      "source": [
        "#plotting the forcast values\n",
        "plt.clf()\n",
        "plt.figure(figsize=(16,8))\n",
        "train = new_data[:length]\n",
        "valid = new_data[length:]\n",
        "valid['Predictions'] = closing_price\n",
        "plt.plot(train['Close'],label=\"training data\")\n",
        "plt.plot(valid[['Close']],label=\"validation data\")\n",
        "plt.plot(valid[['Predictions']],label=\"forcasting data\")\n",
        "plt.xlabel(\"Year\")\n",
        "plt.ylabel(\"The values of Closing price\")\n",
        "plt.title(\"1 year stock prediction\")\n",
        "plt.legend(loc=\"upper left\")\n",
        "plt.show()\n"
      ],
      "execution_count": null,
      "outputs": []
    },
    {
      "cell_type": "code",
      "metadata": {
        "id": "McAd9oLsNOzi",
        "colab_type": "code",
        "colab": {}
      },
      "source": [
        ""
      ],
      "execution_count": null,
      "outputs": []
    }
  ]
}